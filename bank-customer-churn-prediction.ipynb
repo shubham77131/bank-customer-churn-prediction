{
  "nbformat": 4,
  "nbformat_minor": 0,
  "metadata": {
    "colab": {
      "provenance": []
    },
    "kernelspec": {
      "name": "python3",
      "display_name": "Python 3"
    },
    "language_info": {
      "name": "python"
    }
  },
  "cells": [
    {
      "cell_type": "code",
      "execution_count": 37,
      "metadata": {
        "id": "1n6O1tx5Q4lZ"
      },
      "outputs": [],
      "source": [
        "#import necessary libraries\n",
        "import pandas as pd\n",
        "import numpy as np\n",
        "import matplotlib.pyplot as plt\n",
        "import seaborn as sns\n",
        "from google.colab import files\n",
        "import io\n",
        "import os\n",
        "import zipfile"
      ]
    },
    {
      "cell_type": "code",
      "source": [
        "# Install the Kaggle API library and its dependencies.\n",
        "!pip install kaggle --upgrade --quiet"
      ],
      "metadata": {
        "id": "qO6QKQGsUWrl"
      },
      "execution_count": 38,
      "outputs": []
    },
    {
      "cell_type": "code",
      "source": [
        "# Upload your kaggle.json file\n",
        "print(\"Please upload your kaggle.json API file.\")\n",
        "files.upload()"
      ],
      "metadata": {
        "id": "EWKcEuebdz2s"
      },
      "execution_count": null,
      "outputs": []
    },
    {
      "cell_type": "code",
      "source": [
        "# Set up the Kaggle API client\n",
        "!mkdir -p ~/.kaggle\n",
        "!mv kaggle.json ~/.kaggle/\n",
        "!chmod 600 ~/.kaggle/kaggle.json"
      ],
      "metadata": {
        "id": "nt_S9wMod3rL"
      },
      "execution_count": 40,
      "outputs": []
    },
    {
      "cell_type": "code",
      "source": [
        "DATASET_API_COMMAND = \"kaggle datasets download gauravtopre/bank-customer-churn-dataset\"\n",
        "# The name of the zip file to expect.\n",
        "ZIP_FILE_NAME = \"bank-customer-churn-dataset.zip\"\n",
        "# The directory to extract the files into.\n",
        "EXTRACTION_DIR = \"./bank-customer-dataset\""
      ],
      "metadata": {
        "id": "cI3m8yv-d8nM"
      },
      "execution_count": 41,
      "outputs": []
    },
    {
      "cell_type": "code",
      "source": [
        "print(\"\\nDownloading dataset...\")\n",
        "!$DATASET_API_COMMAND"
      ],
      "metadata": {
        "id": "CPgkEW6Gepeq"
      },
      "execution_count": null,
      "outputs": []
    },
    {
      "cell_type": "code",
      "source": [
        "#Unzip the dataset into the specified directory\n",
        "if os.path.exists(ZIP_FILE_NAME):\n",
        "    os.makedirs(EXTRACTION_DIR, exist_ok=True)\n",
        "    with zipfile.ZipFile(ZIP_FILE_NAME, 'r') as zip_ref:\n",
        "        zip_ref.extractall(EXTRACTION_DIR)\n",
        "    print(f\"Extraction of {ZIP_FILE_NAME} completed to {EXTRACTION_DIR}/\")\n",
        "    os.remove(ZIP_FILE_NAME)\n",
        "else:\n",
        "    print(f\"Error: {ZIP_FILE_NAME} not found. Please check the dataset API command.\")"
      ],
      "metadata": {
        "id": "l9kbcSloet6w"
      },
      "execution_count": null,
      "outputs": []
    },
    {
      "cell_type": "code",
      "source": [
        "#Verify the files are extracted\n",
        "print(\"\\nExtracted files are available at:\", EXTRACTION_DIR)\n",
        "print(\"Listing contents of the extraction directory:\")\n",
        "!ls -F {EXTRACTION_DIR}"
      ],
      "metadata": {
        "id": "ga5inFPiev0E"
      },
      "execution_count": null,
      "outputs": []
    },
    {
      "cell_type": "code",
      "source": [
        "# The EXTRACTION_DIR is already defined and populated by the first cell.\n",
        "# Define the file paths for each CSV file.\n",
        "dataset_file_path = os.path.join(EXTRACTION_DIR, 'Bank Customer Churn Prediction.csv')"
      ],
      "metadata": {
        "id": "y6hS6rV1evs8"
      },
      "execution_count": 45,
      "outputs": []
    },
    {
      "cell_type": "code",
      "source": [
        "# Load the datasets into pandas DataFrames.\n",
        "data = pd.read_csv(dataset_file_path)"
      ],
      "metadata": {
        "id": "umv8ptkqWN4u"
      },
      "execution_count": 46,
      "outputs": []
    },
    {
      "cell_type": "code",
      "source": [
        "#Viewing initial content of the dataset.\n",
        "data.head()"
      ],
      "metadata": {
        "id": "kNWz8emeWeTn"
      },
      "execution_count": null,
      "outputs": []
    },
    {
      "cell_type": "code",
      "source": [
        "#plot a correlation heatmap.\n",
        "numeric_data = data.select_dtypes(include=np.number)\n",
        "corr = numeric_data.corr()\n",
        "sns.heatmap(corr)\n",
        "plt.show()"
      ],
      "metadata": {
        "id": "N4o1wTKbWgJx"
      },
      "execution_count": null,
      "outputs": []
    },
    {
      "cell_type": "code",
      "source": [
        "#boxplot between churn and age shows significant correlation.\n",
        "sns.boxplot(x='churn',y='age',data=data)\n",
        "plt.show()"
      ],
      "metadata": {
        "id": "WhyfwvebbXKk"
      },
      "execution_count": null,
      "outputs": []
    },
    {
      "cell_type": "code",
      "source": [
        "#boxplot between churn and balance.\n",
        "sns.boxplot(x='churn',y='balance',data=data)"
      ],
      "metadata": {
        "id": "qjosbkmWbs14"
      },
      "execution_count": null,
      "outputs": []
    },
    {
      "cell_type": "code",
      "source": [
        "#boxplot between churn and credit score.\n",
        "sns.boxplot(x='churn',y='credit_score',data=data)"
      ],
      "metadata": {
        "id": "c_fKnxFUb5ea"
      },
      "execution_count": null,
      "outputs": []
    },
    {
      "cell_type": "code",
      "source": [
        "#scatterplot between churn and estimated salary.\n",
        "plt.scatter(data['balance'],data['estimated_salary'])"
      ],
      "metadata": {
        "id": "0B_Iqw5BcPjb"
      },
      "execution_count": null,
      "outputs": []
    },
    {
      "cell_type": "code",
      "source": [
        "#one hot encoding for categorical features (gender).\n",
        "from sklearn.preprocessing import LabelEncoder\n",
        "encoder = LabelEncoder()\n",
        "data['encoded'] = encoder.fit_transform(data['gender'])\n",
        "data[['churn','encoded']].head()"
      ],
      "metadata": {
        "id": "tHIFWFrtcbzK"
      },
      "execution_count": null,
      "outputs": []
    },
    {
      "cell_type": "code",
      "source": [
        "data['gender'].value_counts()"
      ],
      "metadata": {
        "id": "HalxG43qdqOf"
      },
      "execution_count": null,
      "outputs": []
    },
    {
      "cell_type": "code",
      "source": [
        "data['encoded'].value_counts()"
      ],
      "metadata": {
        "id": "w5ufXs_1d2Tc"
      },
      "execution_count": null,
      "outputs": []
    },
    {
      "cell_type": "code",
      "source": [
        "#count customer churn between male and female customers.\n",
        "M_churn,F_churn = 0,0\n",
        "for i in range(0,len(data)):\n",
        "  if data['churn'][i]==1 and data['encoded'][i]==1:\n",
        "    M_churn+=1\n",
        "  elif data['churn'][i]==1 and data['encoded'][i]==0:\n",
        "    F_churn+=1\n",
        "print(M_churn,F_churn)"
      ],
      "metadata": {
        "id": "X8aa0U90d6HP"
      },
      "execution_count": null,
      "outputs": []
    },
    {
      "cell_type": "code",
      "source": [
        "#barplot shows female bank customers have higher churn rate.\n",
        "plt.bar(['M','F'],[M_churn,F_churn])"
      ],
      "metadata": {
        "id": "3abdCYObfK02"
      },
      "execution_count": null,
      "outputs": []
    },
    {
      "cell_type": "code",
      "source": [
        "y = data['churn']\n",
        "x = data[['age','credit_score','encoded','tenure','balance','products_number','credit_card','active_member','estimated_salary']]"
      ],
      "metadata": {
        "id": "mZRW-jmxfhmE"
      },
      "execution_count": 58,
      "outputs": []
    },
    {
      "cell_type": "code",
      "source": [
        "#split dataset for model training and testing.\n",
        "from sklearn.model_selection import train_test_split\n",
        "x_tr,x_ts,y_tr,y_ts = train_test_split(x,y,test_size=0.2, random_state=42)"
      ],
      "metadata": {
        "id": "tdJWmzgAgsN_"
      },
      "execution_count": 59,
      "outputs": []
    },
    {
      "cell_type": "code",
      "source": [
        "#standardise numerical features.\n",
        "from sklearn.preprocessing import StandardScaler\n",
        "scaler = StandardScaler()\n",
        "scaler.fit(x_tr)"
      ],
      "metadata": {
        "id": "vTwaQ3yHg9Kk"
      },
      "execution_count": null,
      "outputs": []
    },
    {
      "cell_type": "code",
      "source": [
        "#Model selection and training.\n",
        "from sklearn.linear_model import LogisticRegression\n",
        "model = LogisticRegression(C=1/0.01, solver='liblinear')\n",
        "model.fit(x_tr,y_tr)\n",
        "score = model.score(x_ts,y_ts)\n",
        "print(f\"model score is: {score:.4f}\")"
      ],
      "metadata": {
        "id": "a19zibP4hdDt"
      },
      "execution_count": null,
      "outputs": []
    },
    {
      "cell_type": "code",
      "source": [
        "#model coefficient tells the weights of features.\n",
        "#[['age','credit_score','encoded','tenure','balance','products_number','credit_card','active_member','estimated_salary']]\n",
        "model.coef_"
      ],
      "metadata": {
        "id": "2K1Psc-Gh1Gq"
      },
      "execution_count": null,
      "outputs": []
    },
    {
      "cell_type": "code",
      "source": [
        "#Pipeline for calculating the optimal value of lambda.\n",
        "from sklearn.pipeline import make_pipeline\n",
        "test_score = []\n",
        "for lam in np.arange(0.01,100,0.1):\n",
        "  pipe = make_pipeline(StandardScaler(), LogisticRegression(C=1/lam, solver='liblinear'))\n",
        "  pipe.fit(x_tr,y_tr)\n",
        "  scores = pipe.score(x_ts,y_ts)\n",
        "  test_score.append(scores)"
      ],
      "metadata": {
        "id": "H5FE3BLth9A3"
      },
      "execution_count": 76,
      "outputs": []
    },
    {
      "cell_type": "code",
      "source": [
        "#plot the test score valures with different lambda values\n",
        "plt.plot(test_score)"
      ],
      "metadata": {
        "id": "ZDghXxF2WLPZ"
      },
      "execution_count": null,
      "outputs": []
    },
    {
      "cell_type": "code",
      "source": [
        "#value of lambda for highest model score.\n",
        "value = np.argmax(test_score)\n",
        "print(f\"model value is: {value:.4f}\")"
      ],
      "metadata": {
        "id": "WiYFgH4JjCyB"
      },
      "execution_count": null,
      "outputs": []
    }
  ]
}